{
 "cells": [
  {
   "cell_type": "code",
   "execution_count": 2,
   "metadata": {},
   "outputs": [],
   "source": [
    "from langchain_community.utilities import SQLDatabase\n",
    "from sqlalchemy import create_engine\n",
    "from langchain.chains import create_sql_query_chain\n",
    "from langchain_community.tools.sql_database.tool import QuerySQLDataBaseTool\n",
    "from langchain_core.output_parsers import StrOutputParser\n",
    "from operator import itemgetter\n",
    "from langchain_openai import AzureChatOpenAI, AzureOpenAIEmbeddings\n",
    "from langchain_community.utilities import SQLDatabase\n",
    "from langchain.prompts import PromptTemplate\n",
    "from dotenv import load_dotenv\n",
    "import os\n",
    "import warnings\n",
    "from langchain_core.runnables import RunnablePassthrough\n"
   ]
  },
  {
   "cell_type": "code",
   "execution_count": 3,
   "metadata": {},
   "outputs": [],
   "source": [
    "import pyodbc"
   ]
  },
  {
   "cell_type": "code",
   "execution_count": 4,
   "metadata": {},
   "outputs": [],
   "source": [
    "load_dotenv(os.path.join(os.getcwd(),\"Ambiente.env\"))\n",
    "azure_openai_endpoint = os.getenv(\"openai_endpoint\")\n",
    "azure_openai_key = os.getenv(\"openai_key\")"
   ]
  },
  {
   "cell_type": "code",
   "execution_count": 5,
   "metadata": {},
   "outputs": [],
   "source": [
    "llm_risposta1 = AzureChatOpenAI(\n",
    "        deployment_name =\"init-test-gpt-35-turbo\",\n",
    "        model=\"gpt-35-turbo\",\n",
    "        azure_endpoint = azure_openai_endpoint,\n",
    "        openai_api_type=\"azure\",\n",
    "        openai_api_version = '2023-05-15',\n",
    "        openai_api_key = azure_openai_key,\n",
    "        temperature=0)\n",
    "\n",
    "\n",
    "answer_prompt_risposta1 = PromptTemplate.from_template(\n",
    "    \"\"\"\n",
    "    Data una frase in input {question} interpreta la frase in modo tale da identificare le seguenti possibilità:\n",
    "\n",
    "    -Restituisci 1 se nella frase è presente la parola oggi\n",
    "    -Restituisci 2 se nella domanda è presente la parola domani\n",
    "    -Restituisci 3 in tutti gli altri casi.\n",
    "\n",
    "    Restituisci solo il numero nella risposta.\n",
    "\n",
    "    Question: {question}\n",
    "    Risposta:\n",
    "    \"\"\"\n",
    ")\n",
    "chain_risposta = answer_prompt_risposta1 | llm_risposta1 \n",
    "\n",
    "#creiamo di nuovo la catena che descriverà il modo in cui verrà elaborata la Query e la risposta\n"
   ]
  },
  {
   "cell_type": "code",
   "execution_count": 8,
   "metadata": {},
   "outputs": [
    {
     "data": {
      "text/plain": [
       "'2'"
      ]
     },
     "execution_count": 8,
     "metadata": {},
     "output_type": "execute_result"
    }
   ],
   "source": [
    "risposta= chain_risposta.invoke({\"question\": \"Quali sono le mie prenotazioni di domani\"}).content\n",
    "risposta"
   ]
  },
  {
   "cell_type": "code",
   "execution_count": 9,
   "metadata": {},
   "outputs": [
    {
     "name": "stdout",
     "output_type": "stream",
     "text": [
      "2\n"
     ]
    }
   ],
   "source": [
    "print(risposta)"
   ]
  },
  {
   "cell_type": "code",
   "execution_count": 6,
   "metadata": {},
   "outputs": [],
   "source": [
    "def mostra_prenotazioni(numero,id_cliente):\n",
    "    con= pyodbc.connect('DRIVER={SQL Server};SERVER=bubidb.database.windows.net;DATABASE=mlacademy-sqldb;UID=MLacademy;PWD=alten-ML-academy2023')\n",
    "    cursor= con.cursor()\n",
    "    \n",
    "    if numero==1: #oggi\n",
    "        insert_query = \"\"\" SELECT luogo, orario, giorno, numero_persone\n",
    "                           FROM Prenotazioni\n",
    "                           WHERE id_Cliente=? AND Giorno = CONVERT(date, GETDATE());\"\"\"\n",
    "    elif numero==2: #domani\n",
    "        insert_query=\"\"\"SELECT luogo, orario, giorno, numero_persone\n",
    "                        FROM Prenotazioni\n",
    "                        WHERE id_Cliente=? AND Giorno = CONVERT(date, GETDATE()+1);\"\"\"\n",
    "    \n",
    "    else:\n",
    "        insert_query=\"\"\"SELECT luogo, orario, giorno, numero_persone\n",
    "                        FROM Prenotazioni\n",
    "                        WHERE id_Cliente=? AND Giorno >= CONVERT(date, GETDATE());\"\"\"\n",
    "    cursor.execute(insert_query,(id_cliente))\n",
    "    \n",
    "    lista_prenotazioni=[]\n",
    "    for row in cursor.fetchall():\n",
    "        lista_prenotazioni.append(tuple(row))\n",
    "\n",
    "    cursor.close()\n",
    "    con.commit()\n",
    "    con.close()\n",
    "\n",
    "    return lista_prenotazioni\n"
   ]
  },
  {
   "cell_type": "code",
   "execution_count": 10,
   "metadata": {},
   "outputs": [],
   "source": [
    "lista=mostra_prenotazioni(int(risposta),1984)"
   ]
  },
  {
   "cell_type": "code",
   "execution_count": 11,
   "metadata": {},
   "outputs": [],
   "source": [
    "import pandas as pd"
   ]
  },
  {
   "cell_type": "code",
   "execution_count": 129,
   "metadata": {},
   "outputs": [
    {
     "data": {
      "text/plain": [
       "[('Milano', '12:00', '2023-07-25', 2),\n",
       " ('Roma', '14:00', '2023-07-26', 4),\n",
       " ('Napoli', '16:00', '2023-07-27', 3),\n",
       " ('Torino', '18:00', '2023-07-28', 1)]"
      ]
     },
     "execution_count": 129,
     "metadata": {},
     "output_type": "execute_result"
    }
   ],
   "source": [
    "lista"
   ]
  },
  {
   "cell_type": "code",
   "execution_count": 135,
   "metadata": {},
   "outputs": [
    {
     "name": "stdout",
     "output_type": "stream",
     "text": [
      "('Pizza360', '19:30-21:00', '2024-07-26', 4)\n",
      "('Tao', '21:00-22:30', '2024-07-26', 4)\n",
      "('My kimchi', '19:30-21:00', '2024-07-26', 4)\n",
      "('Pizza360', '21:00-22:30', '2024-07-26', 6)\n"
     ]
    }
   ],
   "source": [
    "for tupla in lista:\n",
    "    print(tupla)"
   ]
  },
  {
   "cell_type": "code",
   "execution_count": 142,
   "metadata": {},
   "outputs": [],
   "source": [
    "lista_tuples = [tuple(row) for row in lista]"
   ]
  },
  {
   "cell_type": "code",
   "execution_count": 12,
   "metadata": {},
   "outputs": [],
   "source": [
    "df = pd.DataFrame(lista, columns=['luogo', 'orario', 'giorno', 'numero_persone'])"
   ]
  },
  {
   "cell_type": "code",
   "execution_count": 13,
   "metadata": {},
   "outputs": [
    {
     "data": {
      "text/html": [
       "<div>\n",
       "<style scoped>\n",
       "    .dataframe tbody tr th:only-of-type {\n",
       "        vertical-align: middle;\n",
       "    }\n",
       "\n",
       "    .dataframe tbody tr th {\n",
       "        vertical-align: top;\n",
       "    }\n",
       "\n",
       "    .dataframe thead th {\n",
       "        text-align: right;\n",
       "    }\n",
       "</style>\n",
       "<table border=\"1\" class=\"dataframe\">\n",
       "  <thead>\n",
       "    <tr style=\"text-align: right;\">\n",
       "      <th></th>\n",
       "      <th>luogo</th>\n",
       "      <th>orario</th>\n",
       "      <th>giorno</th>\n",
       "      <th>numero_persone</th>\n",
       "    </tr>\n",
       "  </thead>\n",
       "  <tbody>\n",
       "    <tr>\n",
       "      <th>0</th>\n",
       "      <td>My kimchi</td>\n",
       "      <td>19:30-21:00</td>\n",
       "      <td>2024-07-27</td>\n",
       "      <td>1</td>\n",
       "    </tr>\n",
       "  </tbody>\n",
       "</table>\n",
       "</div>"
      ],
      "text/plain": [
       "       luogo       orario      giorno  numero_persone\n",
       "0  My kimchi  19:30-21:00  2024-07-27               1"
      ]
     },
     "execution_count": 13,
     "metadata": {},
     "output_type": "execute_result"
    }
   ],
   "source": [
    "df"
   ]
  },
  {
   "cell_type": "code",
   "execution_count": 26,
   "metadata": {},
   "outputs": [
    {
     "name": "stdout",
     "output_type": "stream",
     "text": [
      "<class 'str'>\n",
      "<class 'str'>\n",
      "<class 'str'>\n",
      "<class 'str'>\n"
     ]
    }
   ],
   "source": [
    "for i in list(df.loc[0]):\n",
    "    print(type(str(i)))"
   ]
  },
  {
   "cell_type": "code",
   "execution_count": 34,
   "metadata": {},
   "outputs": [],
   "source": [
    "lista_prenotazioni=[]\n",
    "num_rows = df.shape[0]\n",
    "for indice in range(num_rows):\n",
    "    temporaneo=\"\"\n",
    "    for column in list(df.loc[indice]):\n",
    "        temporaneo= temporaneo+\" \"+str(column)\n",
    "    lista_prenotazioni.append(temporaneo.strip())"
   ]
  },
  {
   "cell_type": "code",
   "execution_count": 35,
   "metadata": {},
   "outputs": [
    {
     "data": {
      "text/plain": [
       "['My kimchi 19:30-21:00 2024-07-27 1']"
      ]
     },
     "execution_count": 35,
     "metadata": {},
     "output_type": "execute_result"
    }
   ],
   "source": [
    "lista_prenotazioni"
   ]
  },
  {
   "cell_type": "code",
   "execution_count": 127,
   "metadata": {},
   "outputs": [
    {
     "name": "stdout",
     "output_type": "stream",
     "text": [
      "    luogo orario      giorno  numero_persone\n",
      "0  Milano  12:00  2023-07-25               2\n",
      "1    Roma  14:00  2023-07-26               4\n",
      "2  Napoli  16:00  2023-07-27               3\n",
      "3  Torino  18:00  2023-07-28               1\n"
     ]
    }
   ],
   "source": [
    "lista = [\n",
    "    ('Milano', '12:00', '2023-07-25', 2),\n",
    "    ('Roma', '14:00', '2023-07-26', 4),\n",
    "    ('Napoli', '16:00', '2023-07-27', 3),\n",
    "    ('Torino', '18:00', '2023-07-28', 1)\n",
    "]\n",
    "\n",
    "# Creare il DataFrame dalla lista di tuple\n",
    "df = pd.DataFrame(lista, columns=['luogo', 'orario', 'giorno', 'numero_persone'])\n",
    "\n",
    "print(df)"
   ]
  },
  {
   "cell_type": "code",
   "execution_count": null,
   "metadata": {},
   "outputs": [],
   "source": [
    "def elimina_prenotazione(prenotazione_da_eliminare,id_cliente):\n",
    "    con= pyodbc.connect('DRIVER={SQL Server};SERVER=bubidb.database.windows.net;DATABASE=mlacademy-sqldb;UID=MLacademy;PWD=alten-ML-academy2023')\n",
    "    cursor= con.cursor()\n",
    "\n",
    "    delete_query = \"\"\" SELECT luogo, orario, giorno, numero_persone\n",
    "                           FROM Prenotazioni\n",
    "                           WHERE id_Cliente=? AND Giorno = CONVERT(date, GETDATE());\"\"\"\n",
    "   \n",
    "    cursor.execute(delete_query,(id_cliente))\n",
    "\n",
    "    cursor.close()\n",
    "    con.commit()\n",
    "    con.close()\n"
   ]
  }
 ],
 "metadata": {
  "kernelspec": {
   "display_name": "Python 3",
   "language": "python",
   "name": "python3"
  },
  "language_info": {
   "codemirror_mode": {
    "name": "ipython",
    "version": 3
   },
   "file_extension": ".py",
   "mimetype": "text/x-python",
   "name": "python",
   "nbconvert_exporter": "python",
   "pygments_lexer": "ipython3",
   "version": "3.12.4"
  }
 },
 "nbformat": 4,
 "nbformat_minor": 2
}
